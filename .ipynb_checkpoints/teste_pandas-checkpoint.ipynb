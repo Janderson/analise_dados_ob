{
 "cells": [
  {
   "cell_type": "code",
   "execution_count": 1,
   "metadata": {
    "collapsed": true
   },
   "outputs": [],
   "source": [
    "import pandas as pd"
   ]
  },
  {
   "cell_type": "code",
   "execution_count": 4,
   "metadata": {
    "collapsed": false
   },
   "outputs": [],
   "source": [
    "tf_data=pd.read_csv(\"datasets/csv/AUDUSD_M1.csv\")"
   ]
  },
  {
   "cell_type": "code",
   "execution_count": 5,
   "metadata": {
    "collapsed": false
   },
   "outputs": [
    {
     "data": {
      "text/html": [
       "<div>\n",
       "<table border=\"1\" class=\"dataframe\">\n",
       "  <thead>\n",
       "    <tr style=\"text-align: right;\">\n",
       "      <th></th>\n",
       "      <th>2003.08.04</th>\n",
       "      <th>00:00</th>\n",
       "      <th>0.65122</th>\n",
       "      <th>0.65157</th>\n",
       "      <th>0.6512</th>\n",
       "      <th>0.65157.1</th>\n",
       "      <th>50</th>\n",
       "    </tr>\n",
       "  </thead>\n",
       "  <tbody>\n",
       "    <tr>\n",
       "      <th>2825601</th>\n",
       "      <td>2015.02.06</td>\n",
       "      <td>21:54</td>\n",
       "      <td>0.77908</td>\n",
       "      <td>0.77916</td>\n",
       "      <td>0.77902</td>\n",
       "      <td>0.77916</td>\n",
       "      <td>65</td>\n",
       "    </tr>\n",
       "    <tr>\n",
       "      <th>2825602</th>\n",
       "      <td>2015.02.06</td>\n",
       "      <td>21:55</td>\n",
       "      <td>0.77915</td>\n",
       "      <td>0.77921</td>\n",
       "      <td>0.77900</td>\n",
       "      <td>0.77921</td>\n",
       "      <td>58</td>\n",
       "    </tr>\n",
       "    <tr>\n",
       "      <th>2825603</th>\n",
       "      <td>2015.02.06</td>\n",
       "      <td>21:56</td>\n",
       "      <td>0.77916</td>\n",
       "      <td>0.77939</td>\n",
       "      <td>0.77916</td>\n",
       "      <td>0.77920</td>\n",
       "      <td>143</td>\n",
       "    </tr>\n",
       "    <tr>\n",
       "      <th>2825604</th>\n",
       "      <td>2015.02.06</td>\n",
       "      <td>21:57</td>\n",
       "      <td>0.77921</td>\n",
       "      <td>0.77931</td>\n",
       "      <td>0.77917</td>\n",
       "      <td>0.77920</td>\n",
       "      <td>77</td>\n",
       "    </tr>\n",
       "    <tr>\n",
       "      <th>2825605</th>\n",
       "      <td>2015.02.06</td>\n",
       "      <td>21:58</td>\n",
       "      <td>0.77921</td>\n",
       "      <td>0.77948</td>\n",
       "      <td>0.77917</td>\n",
       "      <td>0.77924</td>\n",
       "      <td>97</td>\n",
       "    </tr>\n",
       "  </tbody>\n",
       "</table>\n",
       "</div>"
      ],
      "text/plain": [
       "         2003.08.04  00:00  0.65122  0.65157   0.6512  0.65157.1   50\n",
       "2825601  2015.02.06  21:54  0.77908  0.77916  0.77902    0.77916   65\n",
       "2825602  2015.02.06  21:55  0.77915  0.77921  0.77900    0.77921   58\n",
       "2825603  2015.02.06  21:56  0.77916  0.77939  0.77916    0.77920  143\n",
       "2825604  2015.02.06  21:57  0.77921  0.77931  0.77917    0.77920   77\n",
       "2825605  2015.02.06  21:58  0.77921  0.77948  0.77917    0.77924   97"
      ]
     },
     "execution_count": 5,
     "metadata": {},
     "output_type": "execute_result"
    }
   ],
   "source": [
    "tf_data.tail()\n"
   ]
  }
 ],
 "metadata": {
  "kernelspec": {
   "display_name": "Python 3",
   "language": "python",
   "name": "python3"
  },
  "language_info": {
   "codemirror_mode": {
    "name": "ipython",
    "version": 3
   },
   "file_extension": ".py",
   "mimetype": "text/x-python",
   "name": "python",
   "nbconvert_exporter": "python",
   "pygments_lexer": "ipython3",
   "version": "3.5.1"
  }
 },
 "nbformat": 4,
 "nbformat_minor": 0
}
